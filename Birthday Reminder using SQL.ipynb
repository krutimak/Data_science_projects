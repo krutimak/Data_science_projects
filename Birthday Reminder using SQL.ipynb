{
 "cells": [
  {
   "cell_type": "code",
   "execution_count": 1,
   "metadata": {},
   "outputs": [],
   "source": [
    "import mysql.connector"
   ]
  },
  {
   "cell_type": "code",
   "execution_count": 2,
   "metadata": {},
   "outputs": [],
   "source": [
    "import mysql.connector\n",
    "con=mysql.connector.connect(host='localhost',port='3306',database='birthday',user='root')\n",
    "cur=con.cursor()\n",
    "cur.execute('select Birthday from info')\n",
    "for i in cur:\n",
    "    j=i[0].split('-')\n",
    "    y=f\"{j[1]}-{j[0]}\"\n",
    "    print(y)\n",
    "    "
   ]
  },
  {
   "cell_type": "code",
   "execution_count": 3,
   "metadata": {},
   "outputs": [],
   "source": [
    "cur=con.cursor()"
   ]
  },
  {
   "cell_type": "code",
   "execution_count": 4,
   "metadata": {},
   "outputs": [],
   "source": [
    "cur.execute('select * from info')"
   ]
  },
  {
   "cell_type": "code",
   "execution_count": 5,
   "metadata": {},
   "outputs": [
    {
     "data": {
      "text/plain": [
       "[(1, 'Nisarg Patel', '30-06-1995', 'nisargpatel3006@gmail.com\\r'),\n",
       " (2, 'Vimesh Doshi', '14-09-1995', 'somanivrajesh@gmail.com\\r'),\n",
       " (3, 'Jikil Chauhah', '26-08-1996', 'jikilchauhan988@gmail.com\\r'),\n",
       " (4, 'Idris Bhavnagarwala', '03-03-1996', 'krazysites@gmail.com\\r'),\n",
       " (5, 'Kevin Pipaliya', '25-06-1995', 'Kevinpipaliya78@gmail.com\\r'),\n",
       " (6, 'Nihar Patel', '11-03-1995', 'ngpatel113@gmail.com\\r'),\n",
       " (7, 'Nidhi Shah', '01-06-1996', 'nidhirshah987@gmail.com\\r'),\n",
       " (8, 'Dhwani Trivedi', '07-08-1995', 'dhwanitrivedi78@gmail.com\\r'),\n",
       " (9, 'Kajal Prajapati', '10-08-1996', 'kajal1996.c@gmail.com\\r'),\n",
       " (10, 'Bindu Kodrani', '20-04-1995', 'bkodrani.20@gmail.com')]"
      ]
     },
     "execution_count": 5,
     "metadata": {},
     "output_type": "execute_result"
    }
   ],
   "source": [
    "list(cur)"
   ]
  },
  {
   "cell_type": "code",
   "execution_count": 7,
   "metadata": {},
   "outputs": [],
   "source": [
    "import datetime"
   ]
  },
  {
   "cell_type": "code",
   "execution_count": 21,
   "metadata": {},
   "outputs": [],
   "source": [
    "import datetime\n",
    "r=str(datetime.datetime.now()).split()[0].split('-')[1:]\n",
    "t='-'.join(r)"
   ]
  },
  {
   "cell_type": "code",
   "execution_count": 25,
   "metadata": {},
   "outputs": [
    {
     "data": {
      "text/plain": [
       "'10-04'"
      ]
     },
     "execution_count": 25,
     "metadata": {},
     "output_type": "execute_result"
    }
   ],
   "source": [
    "'-'.join(r)"
   ]
  },
  {
   "cell_type": "code",
   "execution_count": 35,
   "metadata": {},
   "outputs": [],
   "source": [
    "cur.execute('select Birthday from info')"
   ]
  },
  {
   "cell_type": "code",
   "execution_count": 36,
   "metadata": {},
   "outputs": [
    {
     "name": "stdout",
     "output_type": "stream",
     "text": [
      "06-30\n",
      "09-14\n",
      "08-26\n",
      "03-03\n",
      "06-25\n",
      "03-11\n",
      "06-01\n",
      "08-07\n",
      "08-10\n",
      "04-20\n"
     ]
    }
   ],
   "source": [
    "cur.execute('select Birthday from info')\n",
    "for i in cur:\n",
    "    j=i[0].split('-')\n",
    "    y=f\"{j[1]}-{j[0]}\"\n",
    "    print(y)\n",
    "    "
   ]
  },
  {
   "cell_type": "code",
   "execution_count": 60,
   "metadata": {},
   "outputs": [],
   "source": [
    "def birthday():\n",
    "    import datetime\n",
    "    r=str(datetime.datetime.now()).split()[0].split('-')[1:]\n",
    "    ct='-'.join(r)\n",
    "    import mysql.connector\n",
    "    con=mysql.connector.connect(host='localhost',port='3306',database='birthday',user='root')\n",
    "    cur=con.cursor()\n",
    "    cur.execute('select Birthday from info')\n",
    "    for i in cur:\n",
    "        p=i[0]\n",
    "        j=i[0].split('-')\n",
    "        y=f\"{j[1]}-{j[0]}\"\n",
    "        if y==ct:\n",
    "            cur.execute(f\"select email from info where birthday='{p}'\")\n",
    "            email=list(cur)[0][0]\n",
    "            import smtplib\n",
    "            c=smtplib.SMTP('smtp.gmail.com',587)\n",
    "            c.starttls()\n",
    "            c.login('bankapplication7@gmail.com','Bankapp@')\n",
    "            c.sendmail('bankapplication7@gmail.com',email,'Subject: Birthday Wish\\n\\n Happy birthday .....')\n",
    "            c.close()\n",
    "            \n",
    "    \n"
   ]
  },
  {
   "cell_type": "code",
   "execution_count": 50,
   "metadata": {},
   "outputs": [],
   "source": [
    "cur.execute(\"select email from info where birthday='14-09-1995'\")"
   ]
  },
  {
   "cell_type": "code",
   "execution_count": 45,
   "metadata": {},
   "outputs": [
    {
     "data": {
      "text/plain": [
       "'somanivrajesh@gmail.com'"
      ]
     },
     "execution_count": 45,
     "metadata": {},
     "output_type": "execute_result"
    }
   ],
   "source": [
    "list(cur)[0][0][:-1]"
   ]
  },
  {
   "cell_type": "code",
   "execution_count": 61,
   "metadata": {},
   "outputs": [],
   "source": [
    "birthday()"
   ]
  },
  {
   "cell_type": "code",
   "execution_count": 55,
   "metadata": {},
   "outputs": [
    {
     "name": "stdout",
     "output_type": "stream",
     "text": [
      "'30-06-1995'\n",
      "'14-09-1995'\n",
      "'26-08-1996'\n",
      "'03-03-1996'\n",
      "'25-06-1995'\n",
      "'11-03-1995'\n",
      "'01-06-1996'\n",
      "'07-08-1995'\n",
      "'10-08-1996'\n",
      "'20-04-1995'\n",
      "'04-10-2020'\n"
     ]
    }
   ],
   "source": [
    "import mysql.connector\n",
    "con=mysql.connector.connect(host='localhost',port='3306',database='birthday',user='root')\n",
    "cur=con.cursor()\n",
    "cur.execute('select Birthday from info')\n",
    "for i in cur:\n",
    "    j=i[0]\n",
    "    print(repr(j))"
   ]
  },
  {
   "cell_type": "code",
   "execution_count": null,
   "metadata": {},
   "outputs": [],
   "source": []
  }
 ],
 "metadata": {
  "kernelspec": {
   "display_name": "Python 3",
   "language": "python",
   "name": "python3"
  },
  "language_info": {
   "codemirror_mode": {
    "name": "ipython",
    "version": 3
   },
   "file_extension": ".py",
   "mimetype": "text/x-python",
   "name": "python",
   "nbconvert_exporter": "python",
   "pygments_lexer": "ipython3",
   "version": "3.7.3"
  }
 },
 "nbformat": 4,
 "nbformat_minor": 5
}
